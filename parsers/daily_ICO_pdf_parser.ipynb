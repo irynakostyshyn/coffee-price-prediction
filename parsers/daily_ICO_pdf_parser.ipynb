{
 "cells": [
  {
   "cell_type": "code",
   "execution_count": 1,
   "metadata": {},
   "outputs": [],
   "source": [
    "import PyPDF2\n",
    "import pandas as pd\n",
    "import datetime\n",
    "from dateutil.relativedelta import relativedelta\n",
    "from dateutil.parser import parse"
   ]
  },
  {
   "cell_type": "code",
   "execution_count": 2,
   "metadata": {},
   "outputs": [],
   "source": [
    "def get_doc_name(date):\n",
    "    \"\"\"Return the string pathname of the file.\"\"\"\n",
    "    return \"p1-\" + date.strftime('%B') + str(date.year) + \".pdf\""
   ]
  },
  {
   "cell_type": "code",
   "execution_count": 3,
   "metadata": {},
   "outputs": [],
   "source": [
    "def extract_data_pdf(pdf_name):\n",
    "    \"\"\"Return list of strings (dates and prices mixed) from pdf document\"\"\"\n",
    "    # Parse dates and prices for coffee from pdf\n",
    "    pdfFileObj = open(\"data/\" + pdf_name, 'rb')\n",
    "    pdfReader = PyPDF2.PdfFileReader(pdfFileObj)\n",
    "    pageObj = pdfReader.getPage(0)\n",
    "    data = pageObj.extractText().split(\"\\n\")\n",
    "    \n",
    "    # Leave only date and prices\n",
    "    start = data.index(\"Robustas\")\n",
    "    end = data.index(\"Average\")\n",
    "    return data[start + 1 : end]"
   ]
  },
  {
   "cell_type": "code",
   "execution_count": 6,
   "metadata": {},
   "outputs": [],
   "source": [
    "def get_data_period(start_month=8, end_month=9, start_year=2017, end_year=2018):\n",
    "    \"\"\"\n",
    "    Return list of lists\n",
    "    \n",
    "    Each sublist has it's first value a corresponding date, and rest of\n",
    "    them are prices for different types of coffee\n",
    "    \n",
    "    Ex. ['01-Aug', '130.82', '158.74', '153.49', '136.18', '104.83']\n",
    "    \"\"\"\n",
    "    # Get all dates in the period\n",
    "    date_start = datetime.datetime(start_year, start_month, 1)\n",
    "    date_end = datetime.datetime(end_year, end_month, 1)\n",
    "    step = relativedelta(months=+1)\n",
    "    all_months = []\n",
    "    while date_start <= date_end:\n",
    "        all_months.append(date_start)\n",
    "        date_start += step\n",
    "    pdf_names = [get_doc_name(date) for date in all_months]\n",
    "\n",
    "    # Get all names of documents\n",
    "    all_data = [extract_data_pdf(name) for name in pdf_names]\n",
    "    \n",
    "    # Flatten list\n",
    "    all_data = [item for sublist in all_data for item in sublist]\n",
    "    chunk_data = []\n",
    "    \n",
    "    # Find months and make new sublists\n",
    "    temp = []\n",
    "    for i in all_data:\n",
    "        if not i.replace('.', '', 1).isdigit():\n",
    "            chunk_data.append(temp)\n",
    "            temp = []\n",
    "        temp.append(i)\n",
    "    \n",
    "    return chunk_data[1:]"
   ]
  },
  {
   "cell_type": "code",
   "execution_count": 9,
   "metadata": {},
   "outputs": [],
   "source": [
    "def get_data_frame(data):\n",
    "    \"\"\"Return dataframe with following columns:\n",
    "    \n",
    "    date - date of format DD-MM-YYYY\n",
    "    composite_ind - ICO composite price indicator\n",
    "    columbian_milds - price of columbian milds\n",
    "    other_milds - price of all, but columbian milds\n",
    "    brazilian_nat - price of brazilian naturals\n",
    "    robustas - price of robusta\n",
    "    \"\"\"\n",
    "    df = pd.DataFrame(data, \n",
    "                      columns=[\"date\", \"composite_ind\", \"columbian_milds\", \"other_milds\", \"brazilian_nat\", \"robustas\"]\n",
    "                     ).dropna().reset_index().drop(columns=[\"index\"])\n",
    "    \n",
    "    # Change date format\n",
    "    dates = [parse(i) for i in list(df.date)]\n",
    "    for i in range(len(dates)):\n",
    "        if i < 108:\n",
    "            dates[i] = dates[i].replace(year=2017)\n",
    "        dates[i] = dates[i].strftime('%Y-%m-%d')\n",
    "    df[\"date\"] = dates\n",
    "    \n",
    "    return df"
   ]
  },
  {
   "cell_type": "code",
   "execution_count": 13,
   "metadata": {},
   "outputs": [
    {
     "data": {
      "text/html": [
       "<div>\n",
       "<style scoped>\n",
       "    .dataframe tbody tr th:only-of-type {\n",
       "        vertical-align: middle;\n",
       "    }\n",
       "\n",
       "    .dataframe tbody tr th {\n",
       "        vertical-align: top;\n",
       "    }\n",
       "\n",
       "    .dataframe thead th {\n",
       "        text-align: right;\n",
       "    }\n",
       "</style>\n",
       "<table border=\"1\" class=\"dataframe\">\n",
       "  <thead>\n",
       "    <tr style=\"text-align: right;\">\n",
       "      <th></th>\n",
       "      <th>date</th>\n",
       "      <th>composite_ind</th>\n",
       "      <th>columbian_milds</th>\n",
       "      <th>other_milds</th>\n",
       "      <th>brazilian_nat</th>\n",
       "      <th>robustas</th>\n",
       "    </tr>\n",
       "  </thead>\n",
       "  <tbody>\n",
       "    <tr>\n",
       "      <th>0</th>\n",
       "      <td>2017-08-01</td>\n",
       "      <td>130.82</td>\n",
       "      <td>158.74</td>\n",
       "      <td>153.49</td>\n",
       "      <td>136.18</td>\n",
       "      <td>104.83</td>\n",
       "    </tr>\n",
       "    <tr>\n",
       "      <th>1</th>\n",
       "      <td>2017-08-02</td>\n",
       "      <td>133.23</td>\n",
       "      <td>162.06</td>\n",
       "      <td>156.95</td>\n",
       "      <td>139.18</td>\n",
       "      <td>105.86</td>\n",
       "    </tr>\n",
       "    <tr>\n",
       "      <th>2</th>\n",
       "      <td>2017-08-03</td>\n",
       "      <td>133.11</td>\n",
       "      <td>161.91</td>\n",
       "      <td>156.81</td>\n",
       "      <td>139.15</td>\n",
       "      <td>105.69</td>\n",
       "    </tr>\n",
       "    <tr>\n",
       "      <th>3</th>\n",
       "      <td>2017-08-04</td>\n",
       "      <td>133.05</td>\n",
       "      <td>161.81</td>\n",
       "      <td>156.85</td>\n",
       "      <td>138.97</td>\n",
       "      <td>105.67</td>\n",
       "    </tr>\n",
       "    <tr>\n",
       "      <th>4</th>\n",
       "      <td>2017-08-07</td>\n",
       "      <td>134.72</td>\n",
       "      <td>163.77</td>\n",
       "      <td>158.87</td>\n",
       "      <td>141.04</td>\n",
       "      <td>106.73</td>\n",
       "    </tr>\n",
       "  </tbody>\n",
       "</table>\n",
       "</div>"
      ],
      "text/plain": [
       "         date composite_ind columbian_milds other_milds brazilian_nat robustas\n",
       "0  2017-08-01        130.82          158.74      153.49        136.18   104.83\n",
       "1  2017-08-02        133.23          162.06      156.95        139.18   105.86\n",
       "2  2017-08-03        133.11          161.91      156.81        139.15   105.69\n",
       "3  2017-08-04        133.05          161.81      156.85        138.97   105.67\n",
       "4  2017-08-07        134.72          163.77      158.87        141.04   106.73"
      ]
     },
     "execution_count": 13,
     "metadata": {},
     "output_type": "execute_result"
    }
   ],
   "source": [
    "df = get_data_frame(get_data_period())\n",
    "df.head()"
   ]
  },
  {
   "cell_type": "code",
   "execution_count": 14,
   "metadata": {},
   "outputs": [],
   "source": [
    "# Save as csv\n",
    "pd.DataFrame.to_csv(df, \"data.csv\")"
   ]
  }
 ],
 "metadata": {
  "kernelspec": {
   "display_name": "Python 3",
   "language": "python",
   "name": "python3"
  },
  "language_info": {
   "codemirror_mode": {
    "name": "ipython",
    "version": 3
   },
   "file_extension": ".py",
   "mimetype": "text/x-python",
   "name": "python",
   "nbconvert_exporter": "python",
   "pygments_lexer": "ipython3",
   "version": "3.6.6"
  }
 },
 "nbformat": 4,
 "nbformat_minor": 2
}
