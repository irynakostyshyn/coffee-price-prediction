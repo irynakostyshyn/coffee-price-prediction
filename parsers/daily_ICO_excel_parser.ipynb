{
 "cells": [
  {
   "cell_type": "code",
   "execution_count": 61,
   "metadata": {},
   "outputs": [],
   "source": [
    "import pandas as pd"
   ]
  },
  {
   "cell_type": "code",
   "execution_count": 62,
   "metadata": {},
   "outputs": [],
   "source": [
    "df_year = pd.read_csv(\"data.csv\").drop(columns=[\"Unnamed: 0\"])\n",
    "df_two_month = pd.read_excel(\"pr-market-prices.xlsx\")\n",
    "\n",
    "# Give them the same column names\n",
    "df_two_month.columns = df_year.columns\n",
    "# Change index of last two month\n",
    "df_two_month.index = range(len(df_year), len(df_year) + len(df_two_month))"
   ]
  },
  {
   "cell_type": "code",
   "execution_count": 63,
   "metadata": {},
   "outputs": [
    {
     "data": {
      "text/html": [
       "<div>\n",
       "<style scoped>\n",
       "    .dataframe tbody tr th:only-of-type {\n",
       "        vertical-align: middle;\n",
       "    }\n",
       "\n",
       "    .dataframe tbody tr th {\n",
       "        vertical-align: top;\n",
       "    }\n",
       "\n",
       "    .dataframe thead th {\n",
       "        text-align: right;\n",
       "    }\n",
       "</style>\n",
       "<table border=\"1\" class=\"dataframe\">\n",
       "  <thead>\n",
       "    <tr style=\"text-align: right;\">\n",
       "      <th></th>\n",
       "      <th>date</th>\n",
       "      <th>composite_ind</th>\n",
       "      <th>columbian_milds</th>\n",
       "      <th>other_milds</th>\n",
       "      <th>brazilian_nat</th>\n",
       "      <th>robustas</th>\n",
       "    </tr>\n",
       "  </thead>\n",
       "  <tbody>\n",
       "    <tr>\n",
       "      <th>300</th>\n",
       "      <td>2018-10-01</td>\n",
       "      <td>101.04</td>\n",
       "      <td>128.25</td>\n",
       "      <td>124.28</td>\n",
       "      <td>102.93</td>\n",
       "      <td>79.38</td>\n",
       "    </tr>\n",
       "  </tbody>\n",
       "</table>\n",
       "</div>"
      ],
      "text/plain": [
       "          date  composite_ind  columbian_milds  other_milds  brazilian_nat  \\\n",
       "300 2018-10-01         101.04           128.25       124.28         102.93   \n",
       "\n",
       "     robustas  \n",
       "300     79.38  "
      ]
     },
     "execution_count": 63,
     "metadata": {},
     "output_type": "execute_result"
    }
   ],
   "source": [
    "df_two_month.head(1)"
   ]
  },
  {
   "cell_type": "code",
   "execution_count": 64,
   "metadata": {},
   "outputs": [
    {
     "data": {
      "text/html": [
       "<div>\n",
       "<style scoped>\n",
       "    .dataframe tbody tr th:only-of-type {\n",
       "        vertical-align: middle;\n",
       "    }\n",
       "\n",
       "    .dataframe tbody tr th {\n",
       "        vertical-align: top;\n",
       "    }\n",
       "\n",
       "    .dataframe thead th {\n",
       "        text-align: right;\n",
       "    }\n",
       "</style>\n",
       "<table border=\"1\" class=\"dataframe\">\n",
       "  <thead>\n",
       "    <tr style=\"text-align: right;\">\n",
       "      <th></th>\n",
       "      <th>date</th>\n",
       "      <th>composite_ind</th>\n",
       "      <th>columbian_milds</th>\n",
       "      <th>other_milds</th>\n",
       "      <th>brazilian_nat</th>\n",
       "      <th>robustas</th>\n",
       "    </tr>\n",
       "  </thead>\n",
       "  <tbody>\n",
       "    <tr>\n",
       "      <th>0</th>\n",
       "      <td>2017-08-01</td>\n",
       "      <td>130.82</td>\n",
       "      <td>158.74</td>\n",
       "      <td>153.49</td>\n",
       "      <td>136.18</td>\n",
       "      <td>104.83</td>\n",
       "    </tr>\n",
       "    <tr>\n",
       "      <th>1</th>\n",
       "      <td>2017-08-02</td>\n",
       "      <td>133.23</td>\n",
       "      <td>162.06</td>\n",
       "      <td>156.95</td>\n",
       "      <td>139.18</td>\n",
       "      <td>105.86</td>\n",
       "    </tr>\n",
       "    <tr>\n",
       "      <th>2</th>\n",
       "      <td>2017-08-03</td>\n",
       "      <td>133.11</td>\n",
       "      <td>161.91</td>\n",
       "      <td>156.81</td>\n",
       "      <td>139.15</td>\n",
       "      <td>105.69</td>\n",
       "    </tr>\n",
       "    <tr>\n",
       "      <th>3</th>\n",
       "      <td>2017-08-04</td>\n",
       "      <td>133.05</td>\n",
       "      <td>161.81</td>\n",
       "      <td>156.85</td>\n",
       "      <td>138.97</td>\n",
       "      <td>105.67</td>\n",
       "    </tr>\n",
       "    <tr>\n",
       "      <th>4</th>\n",
       "      <td>2017-08-07</td>\n",
       "      <td>134.72</td>\n",
       "      <td>163.77</td>\n",
       "      <td>158.87</td>\n",
       "      <td>141.04</td>\n",
       "      <td>106.73</td>\n",
       "    </tr>\n",
       "  </tbody>\n",
       "</table>\n",
       "</div>"
      ],
      "text/plain": [
       "         date  composite_ind  columbian_milds  other_milds  brazilian_nat  \\\n",
       "0  2017-08-01         130.82           158.74       153.49         136.18   \n",
       "1  2017-08-02         133.23           162.06       156.95         139.18   \n",
       "2  2017-08-03         133.11           161.91       156.81         139.15   \n",
       "3  2017-08-04         133.05           161.81       156.85         138.97   \n",
       "4  2017-08-07         134.72           163.77       158.87         141.04   \n",
       "\n",
       "   robustas  \n",
       "0    104.83  \n",
       "1    105.86  \n",
       "2    105.69  \n",
       "3    105.67  \n",
       "4    106.73  "
      ]
     },
     "execution_count": 64,
     "metadata": {},
     "output_type": "execute_result"
    }
   ],
   "source": [
    "# Make datetime in last two month a string obj\n",
    "df_two_month.date = df_two_month.date.dt.strftime(\"%Y-%m-%d\")\n",
    "df = pd.concat([df_year, df_two_month])\n",
    "df.head()"
   ]
  },
  {
   "cell_type": "code",
   "execution_count": 65,
   "metadata": {},
   "outputs": [],
   "source": [
    "# Save data to csv file\n",
    "df.to_csv(\"daily_coffee_price.csv\")"
   ]
  }
 ],
 "metadata": {
  "kernelspec": {
   "display_name": "Python 3",
   "language": "python",
   "name": "python3"
  },
  "language_info": {
   "codemirror_mode": {
    "name": "ipython",
    "version": 3
   },
   "file_extension": ".py",
   "mimetype": "text/x-python",
   "name": "python",
   "nbconvert_exporter": "python",
   "pygments_lexer": "ipython3",
   "version": "3.6.6"
  }
 },
 "nbformat": 4,
 "nbformat_minor": 2
}
